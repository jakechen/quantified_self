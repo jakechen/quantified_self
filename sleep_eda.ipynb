{
 "metadata": {
  "name": "",
  "signature": "sha256:e594dbddb8b3ec3aba2ef19eeb0b0af9f57c55ca21d79b1adff350ce3f7637d4"
 },
 "nbformat": 3,
 "nbformat_minor": 0,
 "worksheets": [
  {
   "cells": [
    {
     "cell_type": "code",
     "collapsed": false,
     "input": [
      "import numpy as np\n",
      "import pandas as pd\n",
      "import os"
     ],
     "language": "python",
     "metadata": {},
     "outputs": [],
     "prompt_number": 8
    },
    {
     "cell_type": "code",
     "collapsed": false,
     "input": [
      "os.getcwd()"
     ],
     "language": "python",
     "metadata": {},
     "outputs": [
      {
       "metadata": {},
       "output_type": "pyout",
       "prompt_number": 12,
       "text": [
        "'C:\\\\Users\\\\Jake\\\\Documents\\\\IPython Notebooks\\\\quantified_self'"
       ]
      }
     ],
     "prompt_number": 12
    },
    {
     "cell_type": "code",
     "collapsed": false,
     "input": [
      "os.chdir('/Users/Jake/Dropbox/Drive/quantified_self/')\n",
      "\n",
      "raw = pd.read_csv('data/up_sleep.csv.txt')"
     ],
     "language": "python",
     "metadata": {},
     "outputs": [],
     "prompt_number": 3
    }
   ],
   "metadata": {}
  }
 ]
}