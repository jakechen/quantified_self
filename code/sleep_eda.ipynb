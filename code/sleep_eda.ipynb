{
 "metadata": {
  "name": "",
  "signature": "sha256:389eebc2db1ce1b30e53962bfe744539a4e9ac20cdbe89a3294b7020062446a3"
 },
 "nbformat": 3,
 "nbformat_minor": 0,
 "worksheets": [
  {
   "cells": [
    {
     "cell_type": "code",
     "collapsed": false,
     "input": [
      "import numpy as np\n",
      "import pandas as pd\n",
      "from datetime import datetime\n",
      "%matplotlib inline\n",
      "import os"
     ],
     "language": "python",
     "metadata": {},
     "outputs": [],
     "prompt_number": 1
    },
    {
     "cell_type": "heading",
     "level": 1,
     "metadata": {},
     "source": [
      "Data Preparation"
     ]
    },
    {
     "cell_type": "code",
     "collapsed": false,
     "input": [
      "os.getcwd()"
     ],
     "language": "python",
     "metadata": {},
     "outputs": [
      {
       "metadata": {},
       "output_type": "pyout",
       "prompt_number": 2,
       "text": [
        "'/Users/jake/Dropbox/Projects/quantified_self'"
       ]
      }
     ],
     "prompt_number": 2
    },
    {
     "cell_type": "code",
     "collapsed": false,
     "input": [
      "os.chdir('/Users/Jake/Dropbox/Drive/quantified_self/')\n",
      "\n",
      "raw = pd.read_csv('data/up_sleep.csv.txt')\n",
      "\n",
      "data = raw.copy()\n",
      "data.head()"
     ],
     "language": "python",
     "metadata": {},
     "outputs": [
      {
       "html": [
        "<div style=\"max-height:1000px;max-width:1500px;overflow:auto;\">\n",
        "<table border=\"1\" class=\"dataframe\">\n",
        "  <thead>\n",
        "    <tr style=\"text-align: right;\">\n",
        "      <th></th>\n",
        "      <th>fell_asleep</th>\n",
        "      <th>woke_up</th>\n",
        "      <th>total_time_slept</th>\n",
        "      <th>time_in_light_sleep</th>\n",
        "      <th>pct_time_light_sleep</th>\n",
        "      <th>time_in_deep_sleep</th>\n",
        "      <th>pct_time_deep_sleep</th>\n",
        "      <th>time_awake</th>\n",
        "      <th>pct_time_awake</th>\n",
        "    </tr>\n",
        "  </thead>\n",
        "  <tbody>\n",
        "    <tr>\n",
        "      <th>0</th>\n",
        "      <td> June 22, 2013 at 12:28AM</td>\n",
        "      <td> June 22, 2013 at 12:52AM</td>\n",
        "      <td>  1380</td>\n",
        "      <td>    0</td>\n",
        "      <td>  0.00%</td>\n",
        "      <td> 1440</td>\n",
        "      <td> 82.00%</td>\n",
        "      <td>  360</td>\n",
        "      <td> 21.22%</td>\n",
        "    </tr>\n",
        "    <tr>\n",
        "      <th>1</th>\n",
        "      <td> June 22, 2013 at 12:57AM</td>\n",
        "      <td> June 22, 2013 at 01:18AM</td>\n",
        "      <td>  1200</td>\n",
        "      <td>  960</td>\n",
        "      <td> 64.00%</td>\n",
        "      <td>  480</td>\n",
        "      <td> 35.93%</td>\n",
        "      <td>  240</td>\n",
        "      <td> 16.73%</td>\n",
        "    </tr>\n",
        "    <tr>\n",
        "      <th>2</th>\n",
        "      <td> June 22, 2013 at 01:33AM</td>\n",
        "      <td> June 22, 2013 at 06:39AM</td>\n",
        "      <td> 17760</td>\n",
        "      <td> 8460</td>\n",
        "      <td> 45.78%</td>\n",
        "      <td> 9300</td>\n",
        "      <td> 50.00%</td>\n",
        "      <td> 2160</td>\n",
        "      <td>  4.22%</td>\n",
        "    </tr>\n",
        "    <tr>\n",
        "      <th>3</th>\n",
        "      <td> June 23, 2013 at 05:47AM</td>\n",
        "      <td> June 23, 2013 at 08:21AM</td>\n",
        "      <td>  9051</td>\n",
        "      <td> 7131</td>\n",
        "      <td> 56.60%</td>\n",
        "      <td> 1920</td>\n",
        "      <td> 15.24%</td>\n",
        "      <td> 3549</td>\n",
        "      <td> 28.17%</td>\n",
        "    </tr>\n",
        "    <tr>\n",
        "      <th>4</th>\n",
        "      <td> June 23, 2013 at 08:00AM</td>\n",
        "      <td> June 23, 2013 at 10:00AM</td>\n",
        "      <td>  7200</td>\n",
        "      <td>    0</td>\n",
        "      <td>  0.00%</td>\n",
        "      <td>    0</td>\n",
        "      <td>  0.00%</td>\n",
        "      <td>    0</td>\n",
        "      <td>  0.00%</td>\n",
        "    </tr>\n",
        "  </tbody>\n",
        "</table>\n",
        "</div>"
       ],
       "metadata": {},
       "output_type": "pyout",
       "prompt_number": 3,
       "text": [
        "                fell_asleep                   woke_up  total_time_slept  \\\n",
        "0  June 22, 2013 at 12:28AM  June 22, 2013 at 12:52AM              1380   \n",
        "1  June 22, 2013 at 12:57AM  June 22, 2013 at 01:18AM              1200   \n",
        "2  June 22, 2013 at 01:33AM  June 22, 2013 at 06:39AM             17760   \n",
        "3  June 23, 2013 at 05:47AM  June 23, 2013 at 08:21AM              9051   \n",
        "4  June 23, 2013 at 08:00AM  June 23, 2013 at 10:00AM              7200   \n",
        "\n",
        "   time_in_light_sleep pct_time_light_sleep  time_in_deep_sleep  \\\n",
        "0                    0                0.00%                1440   \n",
        "1                  960               64.00%                 480   \n",
        "2                 8460               45.78%                9300   \n",
        "3                 7131               56.60%                1920   \n",
        "4                    0                0.00%                   0   \n",
        "\n",
        "  pct_time_deep_sleep  time_awake pct_time_awake  \n",
        "0              82.00%         360         21.22%  \n",
        "1              35.93%         240         16.73%  \n",
        "2              50.00%        2160          4.22%  \n",
        "3              15.24%        3549         28.17%  \n",
        "4               0.00%           0          0.00%  "
       ]
      }
     ],
     "prompt_number": 3
    },
    {
     "cell_type": "heading",
     "level": 2,
     "metadata": {},
     "source": [
      "Formatting"
     ]
    },
    {
     "cell_type": "heading",
     "level": 3,
     "metadata": {},
     "source": [
      "Time"
     ]
    },
    {
     "cell_type": "markdown",
     "metadata": {},
     "source": [
      "Convert IFTTT UP time strings into time series format"
     ]
    },
    {
     "cell_type": "code",
     "collapsed": false,
     "input": [
      "format_string = '%B %d, %Y at %I:%M%p'\n",
      "\n",
      "# datetime.strptime('June 23, 2013 at 08:00AM', format_string)\n",
      "\n",
      "data.fell_asleep = data.fell_asleep.apply(lambda x: datetime.strptime(x, format_string))\n",
      "data.woke_up = data.woke_up.apply(lambda x: datetime.strptime(x, format_string))"
     ],
     "language": "python",
     "metadata": {},
     "outputs": [],
     "prompt_number": 4
    },
    {
     "cell_type": "heading",
     "level": 1,
     "metadata": {},
     "source": [
      "Awake vs Total Sleep"
     ]
    },
    {
     "cell_type": "markdown",
     "metadata": {},
     "source": [
      "Is there a relationship between total sleep and awake time? In other words, is there a constant percentage of time where I'm just awake? Like no matter how long I lay in bed, will I just be awake 80% of the time?"
     ]
    },
    {
     "cell_type": "code",
     "collapsed": false,
     "input": [
      "data.head()"
     ],
     "language": "python",
     "metadata": {},
     "outputs": [
      {
       "html": [
        "<div style=\"max-height:1000px;max-width:1500px;overflow:auto;\">\n",
        "<table border=\"1\" class=\"dataframe\">\n",
        "  <thead>\n",
        "    <tr style=\"text-align: right;\">\n",
        "      <th></th>\n",
        "      <th>fell_asleep</th>\n",
        "      <th>woke_up</th>\n",
        "      <th>total_time_slept</th>\n",
        "      <th>time_in_light_sleep</th>\n",
        "      <th>pct_time_light_sleep</th>\n",
        "      <th>time_in_deep_sleep</th>\n",
        "      <th>pct_time_deep_sleep</th>\n",
        "      <th>time_awake</th>\n",
        "      <th>pct_time_awake</th>\n",
        "    </tr>\n",
        "  </thead>\n",
        "  <tbody>\n",
        "    <tr>\n",
        "      <th>0</th>\n",
        "      <td>2013-06-22 00:28:00</td>\n",
        "      <td>2013-06-22 00:52:00</td>\n",
        "      <td>  1380</td>\n",
        "      <td>    0</td>\n",
        "      <td>  0.00%</td>\n",
        "      <td> 1440</td>\n",
        "      <td> 82.00%</td>\n",
        "      <td>  360</td>\n",
        "      <td> 21.22%</td>\n",
        "    </tr>\n",
        "    <tr>\n",
        "      <th>1</th>\n",
        "      <td>2013-06-22 00:57:00</td>\n",
        "      <td>2013-06-22 01:18:00</td>\n",
        "      <td>  1200</td>\n",
        "      <td>  960</td>\n",
        "      <td> 64.00%</td>\n",
        "      <td>  480</td>\n",
        "      <td> 35.93%</td>\n",
        "      <td>  240</td>\n",
        "      <td> 16.73%</td>\n",
        "    </tr>\n",
        "    <tr>\n",
        "      <th>2</th>\n",
        "      <td>2013-06-22 01:33:00</td>\n",
        "      <td>2013-06-22 06:39:00</td>\n",
        "      <td> 17760</td>\n",
        "      <td> 8460</td>\n",
        "      <td> 45.78%</td>\n",
        "      <td> 9300</td>\n",
        "      <td> 50.00%</td>\n",
        "      <td> 2160</td>\n",
        "      <td>  4.22%</td>\n",
        "    </tr>\n",
        "    <tr>\n",
        "      <th>3</th>\n",
        "      <td>2013-06-23 05:47:00</td>\n",
        "      <td>2013-06-23 08:21:00</td>\n",
        "      <td>  9051</td>\n",
        "      <td> 7131</td>\n",
        "      <td> 56.60%</td>\n",
        "      <td> 1920</td>\n",
        "      <td> 15.24%</td>\n",
        "      <td> 3549</td>\n",
        "      <td> 28.17%</td>\n",
        "    </tr>\n",
        "    <tr>\n",
        "      <th>4</th>\n",
        "      <td>2013-06-23 08:00:00</td>\n",
        "      <td>2013-06-23 10:00:00</td>\n",
        "      <td>  7200</td>\n",
        "      <td>    0</td>\n",
        "      <td>  0.00%</td>\n",
        "      <td>    0</td>\n",
        "      <td>  0.00%</td>\n",
        "      <td>    0</td>\n",
        "      <td>  0.00%</td>\n",
        "    </tr>\n",
        "  </tbody>\n",
        "</table>\n",
        "</div>"
       ],
       "metadata": {},
       "output_type": "pyout",
       "prompt_number": 5,
       "text": [
        "          fell_asleep             woke_up  total_time_slept  \\\n",
        "0 2013-06-22 00:28:00 2013-06-22 00:52:00              1380   \n",
        "1 2013-06-22 00:57:00 2013-06-22 01:18:00              1200   \n",
        "2 2013-06-22 01:33:00 2013-06-22 06:39:00             17760   \n",
        "3 2013-06-23 05:47:00 2013-06-23 08:21:00              9051   \n",
        "4 2013-06-23 08:00:00 2013-06-23 10:00:00              7200   \n",
        "\n",
        "   time_in_light_sleep pct_time_light_sleep  time_in_deep_sleep  \\\n",
        "0                    0                0.00%                1440   \n",
        "1                  960               64.00%                 480   \n",
        "2                 8460               45.78%                9300   \n",
        "3                 7131               56.60%                1920   \n",
        "4                    0                0.00%                   0   \n",
        "\n",
        "  pct_time_deep_sleep  time_awake pct_time_awake  \n",
        "0              82.00%         360         21.22%  \n",
        "1              35.93%         240         16.73%  \n",
        "2              50.00%        2160          4.22%  \n",
        "3              15.24%        3549         28.17%  \n",
        "4               0.00%           0          0.00%  "
       ]
      }
     ],
     "prompt_number": 5
    },
    {
     "cell_type": "code",
     "collapsed": false,
     "input": [
      "data.total_time_slept.hist(bins=30)"
     ],
     "language": "python",
     "metadata": {},
     "outputs": [
      {
       "metadata": {},
       "output_type": "pyout",
       "prompt_number": 6,
       "text": [
        "<matplotlib.axes.AxesSubplot at 0x1074dd290>"
       ]
      },
      {
       "metadata": {},
       "output_type": "display_data",
       "png": "[encoded data removed]",
       "text": [
        "<matplotlib.figure.Figure at 0x1074dd750>"
       ]
      }
     ],
     "prompt_number": 6
    },
    {
     "cell_type": "markdown",
     "metadata": {},
     "source": [
      "# Time in Bed vs Awake Time"
     ]
    },
    {
     "cell_type": "markdown",
     "metadata": {},
     "source": [
      "Do I get better sleep depending on when I sleep?"
     ]
    },
    {
     "cell_type": "code",
     "collapsed": false,
     "input": [],
     "language": "python",
     "metadata": {},
     "outputs": []
    }
   ],
   "metadata": {}
  }
 ]
}